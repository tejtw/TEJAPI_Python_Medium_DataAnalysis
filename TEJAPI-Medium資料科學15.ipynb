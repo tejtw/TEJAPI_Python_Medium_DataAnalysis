{
 "cells": [
  {
   "cell_type": "code",
   "execution_count": 2,
   "id": "3c57717b",
   "metadata": {},
   "outputs": [],
   "source": [
    "import pandas as pd\n",
    "import numpy as np\n",
    "import tejapi\n",
    "import statsmodels.formula.api as smf\n",
    "tejapi.ApiConfig.api_key = \"maQNDP8Vb5bBB8b55kCkR2TC6s65Eg\"\n",
    "tejapi.ApiConfig.api_base=\"http://10.10.10.66\"\n",
    "tejapi.ApiConfig.ignoretz = True"
   ]
  },
  {
   "cell_type": "code",
   "execution_count": 3,
   "id": "1c7ffcc9",
   "metadata": {},
   "outputs": [],
   "source": [
    "df1 = tejapi.get('TWN/ACRQMTAB', #從TEJ api撈取所需要的資料\n",
    "                chinese_column_name = True,\n",
    "                paginate = True,\n",
    "#                 mdate = {'gt':'2018-01-01'},\n",
    "                opts={'columns':['coid','mdate','xcdt']})"
   ]
  },
  {
   "cell_type": "code",
   "execution_count": 4,
   "id": "79b717d9",
   "metadata": {},
   "outputs": [
    {
     "data": {
      "text/html": [
       "<div>\n",
       "<style scoped>\n",
       "    .dataframe tbody tr th:only-of-type {\n",
       "        vertical-align: middle;\n",
       "    }\n",
       "\n",
       "    .dataframe tbody tr th {\n",
       "        vertical-align: top;\n",
       "    }\n",
       "\n",
       "    .dataframe thead th {\n",
       "        text-align: right;\n",
       "    }\n",
       "</style>\n",
       "<table border=\"1\" class=\"dataframe\">\n",
       "  <thead>\n",
       "    <tr style=\"text-align: right;\">\n",
       "      <th></th>\n",
       "      <th>公司</th>\n",
       "      <th>年/月</th>\n",
       "      <th>狀況</th>\n",
       "    </tr>\n",
       "    <tr>\n",
       "      <th>None</th>\n",
       "      <th></th>\n",
       "      <th></th>\n",
       "      <th></th>\n",
       "    </tr>\n",
       "  </thead>\n",
       "  <tbody>\n",
       "    <tr>\n",
       "      <th>0</th>\n",
       "      <td>1101</td>\n",
       "      <td>2008-03-01</td>\n",
       "      <td></td>\n",
       "    </tr>\n",
       "    <tr>\n",
       "      <th>1</th>\n",
       "      <td>1101</td>\n",
       "      <td>2008-06-01</td>\n",
       "      <td></td>\n",
       "    </tr>\n",
       "    <tr>\n",
       "      <th>2</th>\n",
       "      <td>1101</td>\n",
       "      <td>2008-09-01</td>\n",
       "      <td></td>\n",
       "    </tr>\n",
       "    <tr>\n",
       "      <th>3</th>\n",
       "      <td>1101</td>\n",
       "      <td>2008-12-01</td>\n",
       "      <td></td>\n",
       "    </tr>\n",
       "    <tr>\n",
       "      <th>4</th>\n",
       "      <td>1101</td>\n",
       "      <td>2009-03-01</td>\n",
       "      <td></td>\n",
       "    </tr>\n",
       "    <tr>\n",
       "      <th>...</th>\n",
       "      <td>...</td>\n",
       "      <td>...</td>\n",
       "      <td>...</td>\n",
       "    </tr>\n",
       "    <tr>\n",
       "      <th>94188</th>\n",
       "      <td>9978</td>\n",
       "      <td>2020-12-01</td>\n",
       "      <td>上市前</td>\n",
       "    </tr>\n",
       "    <tr>\n",
       "      <th>94189</th>\n",
       "      <td>9978</td>\n",
       "      <td>2021-06-01</td>\n",
       "      <td>上市前</td>\n",
       "    </tr>\n",
       "    <tr>\n",
       "      <th>94190</th>\n",
       "      <td>9978</td>\n",
       "      <td>2021-12-01</td>\n",
       "      <td>上市前</td>\n",
       "    </tr>\n",
       "    <tr>\n",
       "      <th>94191</th>\n",
       "      <td>L24972</td>\n",
       "      <td>2000-12-01</td>\n",
       "      <td>成立未滿4年</td>\n",
       "    </tr>\n",
       "    <tr>\n",
       "      <th>94192</th>\n",
       "      <td>L24972</td>\n",
       "      <td>2001-12-01</td>\n",
       "      <td>成立未滿4年</td>\n",
       "    </tr>\n",
       "  </tbody>\n",
       "</table>\n",
       "<p>94193 rows × 3 columns</p>\n",
       "</div>"
      ],
      "text/plain": [
       "           公司        年/月      狀況\n",
       "None                            \n",
       "0        1101 2008-03-01        \n",
       "1        1101 2008-06-01        \n",
       "2        1101 2008-09-01        \n",
       "3        1101 2008-12-01        \n",
       "4        1101 2009-03-01        \n",
       "...       ...        ...     ...\n",
       "94188    9978 2020-12-01     上市前\n",
       "94189    9978 2021-06-01     上市前\n",
       "94190    9978 2021-12-01     上市前\n",
       "94191  L24972 2000-12-01  成立未滿4年\n",
       "94192  L24972 2001-12-01  成立未滿4年\n",
       "\n",
       "[94193 rows x 3 columns]"
      ]
     },
     "execution_count": 4,
     "metadata": {},
     "output_type": "execute_result"
    }
   ],
   "source": [
    "df1"
   ]
  },
  {
   "cell_type": "markdown",
   "id": "c5d011c6",
   "metadata": {},
   "source": [
    "先確認狀況有幾種類別"
   ]
  },
  {
   "cell_type": "code",
   "execution_count": 5,
   "id": "2a21bcce",
   "metadata": {},
   "outputs": [
    {
     "data": {
      "text/plain": [
       "array(['', '全交下市', '上市前', '財務未滿三年', '成立未滿4年', '下市', '撤公開/結束', '-'],\n",
       "      dtype=object)"
      ]
     },
     "execution_count": 5,
     "metadata": {},
     "output_type": "execute_result"
    }
   ],
   "source": [
    "df1['狀況'].unique()"
   ]
  },
  {
   "cell_type": "markdown",
   "id": "4480d3dc",
   "metadata": {},
   "source": [
    "將上市前股票排除"
   ]
  },
  {
   "cell_type": "code",
   "execution_count": 6,
   "id": "a6cf8559",
   "metadata": {},
   "outputs": [],
   "source": [
    "df2 = df1[df1['狀況'] != '上市前']"
   ]
  },
  {
   "cell_type": "code",
   "execution_count": 7,
   "id": "98e0ab5f",
   "metadata": {},
   "outputs": [
    {
     "data": {
      "text/html": [
       "<div>\n",
       "<style scoped>\n",
       "    .dataframe tbody tr th:only-of-type {\n",
       "        vertical-align: middle;\n",
       "    }\n",
       "\n",
       "    .dataframe tbody tr th {\n",
       "        vertical-align: top;\n",
       "    }\n",
       "\n",
       "    .dataframe thead th {\n",
       "        text-align: right;\n",
       "    }\n",
       "</style>\n",
       "<table border=\"1\" class=\"dataframe\">\n",
       "  <thead>\n",
       "    <tr style=\"text-align: right;\">\n",
       "      <th></th>\n",
       "      <th>公司</th>\n",
       "      <th>年/月</th>\n",
       "      <th>狀況</th>\n",
       "    </tr>\n",
       "    <tr>\n",
       "      <th>None</th>\n",
       "      <th></th>\n",
       "      <th></th>\n",
       "      <th></th>\n",
       "    </tr>\n",
       "  </thead>\n",
       "  <tbody>\n",
       "    <tr>\n",
       "      <th>0</th>\n",
       "      <td>1101</td>\n",
       "      <td>2008-03-01</td>\n",
       "      <td></td>\n",
       "    </tr>\n",
       "    <tr>\n",
       "      <th>1</th>\n",
       "      <td>1101</td>\n",
       "      <td>2008-06-01</td>\n",
       "      <td></td>\n",
       "    </tr>\n",
       "    <tr>\n",
       "      <th>2</th>\n",
       "      <td>1101</td>\n",
       "      <td>2008-09-01</td>\n",
       "      <td></td>\n",
       "    </tr>\n",
       "    <tr>\n",
       "      <th>3</th>\n",
       "      <td>1101</td>\n",
       "      <td>2008-12-01</td>\n",
       "      <td></td>\n",
       "    </tr>\n",
       "    <tr>\n",
       "      <th>4</th>\n",
       "      <td>1101</td>\n",
       "      <td>2009-03-01</td>\n",
       "      <td></td>\n",
       "    </tr>\n",
       "    <tr>\n",
       "      <th>...</th>\n",
       "      <td>...</td>\n",
       "      <td>...</td>\n",
       "      <td>...</td>\n",
       "    </tr>\n",
       "    <tr>\n",
       "      <th>94175</th>\n",
       "      <td>9965</td>\n",
       "      <td>2007-06-01</td>\n",
       "      <td></td>\n",
       "    </tr>\n",
       "    <tr>\n",
       "      <th>94176</th>\n",
       "      <td>9965</td>\n",
       "      <td>2007-12-01</td>\n",
       "      <td></td>\n",
       "    </tr>\n",
       "    <tr>\n",
       "      <th>94177</th>\n",
       "      <td>9965</td>\n",
       "      <td>2008-06-01</td>\n",
       "      <td></td>\n",
       "    </tr>\n",
       "    <tr>\n",
       "      <th>94191</th>\n",
       "      <td>L24972</td>\n",
       "      <td>2000-12-01</td>\n",
       "      <td>成立未滿4年</td>\n",
       "    </tr>\n",
       "    <tr>\n",
       "      <th>94192</th>\n",
       "      <td>L24972</td>\n",
       "      <td>2001-12-01</td>\n",
       "      <td>成立未滿4年</td>\n",
       "    </tr>\n",
       "  </tbody>\n",
       "</table>\n",
       "<p>90437 rows × 3 columns</p>\n",
       "</div>"
      ],
      "text/plain": [
       "           公司        年/月      狀況\n",
       "None                            \n",
       "0        1101 2008-03-01        \n",
       "1        1101 2008-06-01        \n",
       "2        1101 2008-09-01        \n",
       "3        1101 2008-12-01        \n",
       "4        1101 2009-03-01        \n",
       "...       ...        ...     ...\n",
       "94175    9965 2007-06-01        \n",
       "94176    9965 2007-12-01        \n",
       "94177    9965 2008-06-01        \n",
       "94191  L24972 2000-12-01  成立未滿4年\n",
       "94192  L24972 2001-12-01  成立未滿4年\n",
       "\n",
       "[90437 rows x 3 columns]"
      ]
     },
     "execution_count": 7,
     "metadata": {},
     "output_type": "execute_result"
    }
   ],
   "source": [
    "df2"
   ]
  },
  {
   "cell_type": "markdown",
   "id": "f4d098cc",
   "metadata": {},
   "source": [
    "將全交下市及下市 股票設為1 其餘為0"
   ]
  },
  {
   "cell_type": "code",
   "execution_count": 8,
   "id": "8caafe2b",
   "metadata": {},
   "outputs": [
    {
     "name": "stderr",
     "output_type": "stream",
     "text": [
      "/var/folders/gn/7b_mmd0s64q0kkr42rncl0jc0000gn/T/ipykernel_26068/1047614279.py:1: SettingWithCopyWarning: \n",
      "A value is trying to be set on a copy of a slice from a DataFrame.\n",
      "Try using .loc[row_indexer,col_indexer] = value instead\n",
      "\n",
      "See the caveats in the documentation: https://pandas.pydata.org/pandas-docs/stable/user_guide/indexing.html#returning-a-view-versus-a-copy\n",
      "  df2['狀況'] = df2[['狀況']].applymap(lambda x:1 if x =='全交下市' or x =='下市'  else 0)\n"
     ]
    }
   ],
   "source": [
    "df2['狀況'] = df2[['狀況']].applymap(lambda x:1 if x =='全交下市' or x =='下市'  else 0)"
   ]
  },
  {
   "cell_type": "markdown",
   "id": "ad7e6266",
   "metadata": {},
   "source": [
    "抓變數會用到的財報資料"
   ]
  },
  {
   "cell_type": "code",
   "execution_count": 12,
   "id": "035e60c4",
   "metadata": {},
   "outputs": [],
   "source": [
    "a1 = tejapi.get('TWN/AIFIN', #從TEJ api撈取所需要的資料\n",
    "                chinese_column_name = True,\n",
    "                paginate = True,\n",
    "                mdate = {'gt':'2008-01-01', 'lt':'2011-01-01'},\n",
    "                acc_code = ['R678', '0010','2341','2402','MV','1000', 'R607','R11V', 'R505'])"
   ]
  },
  {
   "cell_type": "code",
   "execution_count": 14,
   "id": "fe174209",
   "metadata": {},
   "outputs": [],
   "source": [
    "a2 = tejapi.get('TWN/AIFIN', #從TEJ api撈取所需要的資料\n",
    "                chinese_column_name = True,\n",
    "                paginate = True,\n",
    "                mdate = {'gt':'2011-01-01', 'lt':'2014-01-01'},\n",
    "                acc_code = ['R678', '0010','2341','2402','MV','1000', 'R607','R11V', 'R505'])"
   ]
  },
  {
   "cell_type": "code",
   "execution_count": 25,
   "id": "0e888b40",
   "metadata": {},
   "outputs": [],
   "source": [
    "a3 = tejapi.get('TWN/AIFIN', #從TEJ api撈取所需要的資料\n",
    "                chinese_column_name = True,\n",
    "                paginate = True,\n",
    "                mdate = {'gt':'2014-01-01', 'lt':'2017-01-01'},\n",
    "                acc_code = ['R678', '0010','2341','2402','MV','1000', 'R607','R11V', 'R505'])"
   ]
  },
  {
   "cell_type": "code",
   "execution_count": 26,
   "id": "80381492",
   "metadata": {},
   "outputs": [],
   "source": [
    "a4 = tejapi.get('TWN/AIFIN', #從TEJ api撈取所需要的資料\n",
    "                chinese_column_name = True,\n",
    "                paginate = True,\n",
    "                mdate = {'gt':'2017-01-01', 'lt':'2020-01-01'},\n",
    "                acc_code = ['R678', '0010','2341','2402','MV','1000', 'R607','R11V', 'R505'])"
   ]
  },
  {
   "cell_type": "code",
   "execution_count": 27,
   "id": "ebaee0ff",
   "metadata": {},
   "outputs": [],
   "source": [
    "a5 = tejapi.get('TWN/AIFIN', #從TEJ api撈取所需要的資料\n",
    "                chinese_column_name = True,\n",
    "                paginate = True,\n",
    "                mdate = {'gt':'2020-01-01'},\n",
    "                acc_code = ['R678', '0010','2341','2402','MV','1000', 'R607','R11V', 'R505'])"
   ]
  },
  {
   "cell_type": "code",
   "execution_count": 37,
   "id": "f42506b4",
   "metadata": {},
   "outputs": [],
   "source": [
    "acc = pd.concat([a1,a2,a3,a4,a5])"
   ]
  },
  {
   "cell_type": "code",
   "execution_count": 39,
   "id": "0c0f0a0b",
   "metadata": {},
   "outputs": [],
   "source": [
    "acc1 = acc.pivot_table(values='數值', index=['公司','年/月'], columns='會計科目') #用pivot table將會計科目放到columns上"
   ]
  },
  {
   "cell_type": "code",
   "execution_count": 40,
   "id": "732fb69c",
   "metadata": {},
   "outputs": [
    {
     "data": {
      "text/html": [
       "<div>\n",
       "<style scoped>\n",
       "    .dataframe tbody tr th:only-of-type {\n",
       "        vertical-align: middle;\n",
       "    }\n",
       "\n",
       "    .dataframe tbody tr th {\n",
       "        vertical-align: top;\n",
       "    }\n",
       "\n",
       "    .dataframe thead th {\n",
       "        text-align: right;\n",
       "    }\n",
       "</style>\n",
       "<table border=\"1\" class=\"dataframe\">\n",
       "  <thead>\n",
       "    <tr style=\"text-align: right;\">\n",
       "      <th></th>\n",
       "      <th>會計科目</th>\n",
       "      <th>0010</th>\n",
       "      <th>1000</th>\n",
       "      <th>2341</th>\n",
       "      <th>2402</th>\n",
       "      <th>MV</th>\n",
       "      <th>R11V</th>\n",
       "      <th>R505</th>\n",
       "      <th>R607</th>\n",
       "      <th>R678</th>\n",
       "    </tr>\n",
       "    <tr>\n",
       "      <th>公司</th>\n",
       "      <th>年/月</th>\n",
       "      <th></th>\n",
       "      <th></th>\n",
       "      <th></th>\n",
       "      <th></th>\n",
       "      <th></th>\n",
       "      <th></th>\n",
       "      <th></th>\n",
       "      <th></th>\n",
       "      <th></th>\n",
       "    </tr>\n",
       "  </thead>\n",
       "  <tbody>\n",
       "    <tr>\n",
       "      <th rowspan=\"5\" valign=\"top\">000016</th>\n",
       "      <th>2008-06-01</th>\n",
       "      <td>853115.0</td>\n",
       "      <td>206761.0</td>\n",
       "      <td>96354.0</td>\n",
       "      <td>38116.0</td>\n",
       "      <td>NaN</td>\n",
       "      <td>NaN</td>\n",
       "      <td>24.24</td>\n",
       "      <td>0.67</td>\n",
       "      <td>NaN</td>\n",
       "    </tr>\n",
       "    <tr>\n",
       "      <th>2008-12-01</th>\n",
       "      <td>794817.0</td>\n",
       "      <td>136689.0</td>\n",
       "      <td>108128.0</td>\n",
       "      <td>18324.0</td>\n",
       "      <td>NaN</td>\n",
       "      <td>NaN</td>\n",
       "      <td>17.20</td>\n",
       "      <td>0.63</td>\n",
       "      <td>NaN</td>\n",
       "    </tr>\n",
       "    <tr>\n",
       "      <th>2009-06-01</th>\n",
       "      <td>789105.0</td>\n",
       "      <td>127192.0</td>\n",
       "      <td>113626.0</td>\n",
       "      <td>30467.0</td>\n",
       "      <td>NaN</td>\n",
       "      <td>NaN</td>\n",
       "      <td>16.12</td>\n",
       "      <td>0.50</td>\n",
       "      <td>NaN</td>\n",
       "    </tr>\n",
       "    <tr>\n",
       "      <th>2009-12-01</th>\n",
       "      <td>828313.0</td>\n",
       "      <td>158918.0</td>\n",
       "      <td>121108.0</td>\n",
       "      <td>11891.0</td>\n",
       "      <td>NaN</td>\n",
       "      <td>NaN</td>\n",
       "      <td>19.19</td>\n",
       "      <td>0.52</td>\n",
       "      <td>NaN</td>\n",
       "    </tr>\n",
       "    <tr>\n",
       "      <th>2010-06-01</th>\n",
       "      <td>723437.0</td>\n",
       "      <td>293459.0</td>\n",
       "      <td>129978.0</td>\n",
       "      <td>28978.0</td>\n",
       "      <td>NaN</td>\n",
       "      <td>NaN</td>\n",
       "      <td>40.56</td>\n",
       "      <td>0.71</td>\n",
       "      <td>NaN</td>\n",
       "    </tr>\n",
       "    <tr>\n",
       "      <th>...</th>\n",
       "      <th>...</th>\n",
       "      <td>...</td>\n",
       "      <td>...</td>\n",
       "      <td>...</td>\n",
       "      <td>...</td>\n",
       "      <td>...</td>\n",
       "      <td>...</td>\n",
       "      <td>...</td>\n",
       "      <td>...</td>\n",
       "      <td>...</td>\n",
       "    </tr>\n",
       "    <tr>\n",
       "      <th rowspan=\"5\" valign=\"top\">Z5389</th>\n",
       "      <th>2021-03-01</th>\n",
       "      <td>671435.0</td>\n",
       "      <td>506622.0</td>\n",
       "      <td>-69187.0</td>\n",
       "      <td>NaN</td>\n",
       "      <td>NaN</td>\n",
       "      <td>3.12</td>\n",
       "      <td>75.45</td>\n",
       "      <td>0.38</td>\n",
       "      <td>NaN</td>\n",
       "    </tr>\n",
       "    <tr>\n",
       "      <th>2021-06-01</th>\n",
       "      <td>666327.0</td>\n",
       "      <td>504462.0</td>\n",
       "      <td>-72135.0</td>\n",
       "      <td>NaN</td>\n",
       "      <td>NaN</td>\n",
       "      <td>2.66</td>\n",
       "      <td>75.71</td>\n",
       "      <td>0.29</td>\n",
       "      <td>NaN</td>\n",
       "    </tr>\n",
       "    <tr>\n",
       "      <th>2021-09-01</th>\n",
       "      <td>741529.0</td>\n",
       "      <td>477884.0</td>\n",
       "      <td>-78355.0</td>\n",
       "      <td>NaN</td>\n",
       "      <td>NaN</td>\n",
       "      <td>1.59</td>\n",
       "      <td>64.45</td>\n",
       "      <td>0.24</td>\n",
       "      <td>NaN</td>\n",
       "    </tr>\n",
       "    <tr>\n",
       "      <th>2021-12-01</th>\n",
       "      <td>669558.0</td>\n",
       "      <td>413791.0</td>\n",
       "      <td>-86233.0</td>\n",
       "      <td>NaN</td>\n",
       "      <td>NaN</td>\n",
       "      <td>0.44</td>\n",
       "      <td>61.80</td>\n",
       "      <td>0.24</td>\n",
       "      <td>NaN</td>\n",
       "    </tr>\n",
       "    <tr>\n",
       "      <th>2022-03-01</th>\n",
       "      <td>791483.0</td>\n",
       "      <td>503928.0</td>\n",
       "      <td>-54445.0</td>\n",
       "      <td>NaN</td>\n",
       "      <td>NaN</td>\n",
       "      <td>4.35</td>\n",
       "      <td>63.67</td>\n",
       "      <td>0.46</td>\n",
       "      <td>NaN</td>\n",
       "    </tr>\n",
       "  </tbody>\n",
       "</table>\n",
       "<p>125489 rows × 9 columns</p>\n",
       "</div>"
      ],
      "text/plain": [
       "會計科目                   0010      1000      2341     2402  MV  R11V   R505  \\\n",
       "公司     年/月                                                                  \n",
       "000016 2008-06-01  853115.0  206761.0   96354.0  38116.0 NaN   NaN  24.24   \n",
       "       2008-12-01  794817.0  136689.0  108128.0  18324.0 NaN   NaN  17.20   \n",
       "       2009-06-01  789105.0  127192.0  113626.0  30467.0 NaN   NaN  16.12   \n",
       "       2009-12-01  828313.0  158918.0  121108.0  11891.0 NaN   NaN  19.19   \n",
       "       2010-06-01  723437.0  293459.0  129978.0  28978.0 NaN   NaN  40.56   \n",
       "...                     ...       ...       ...      ...  ..   ...    ...   \n",
       "Z5389  2021-03-01  671435.0  506622.0  -69187.0      NaN NaN  3.12  75.45   \n",
       "       2021-06-01  666327.0  504462.0  -72135.0      NaN NaN  2.66  75.71   \n",
       "       2021-09-01  741529.0  477884.0  -78355.0      NaN NaN  1.59  64.45   \n",
       "       2021-12-01  669558.0  413791.0  -86233.0      NaN NaN  0.44  61.80   \n",
       "       2022-03-01  791483.0  503928.0  -54445.0      NaN NaN  4.35  63.67   \n",
       "\n",
       "會計科目               R607  R678  \n",
       "公司     年/月                     \n",
       "000016 2008-06-01  0.67   NaN  \n",
       "       2008-12-01  0.63   NaN  \n",
       "       2009-06-01  0.50   NaN  \n",
       "       2009-12-01  0.52   NaN  \n",
       "       2010-06-01  0.71   NaN  \n",
       "...                 ...   ...  \n",
       "Z5389  2021-03-01  0.38   NaN  \n",
       "       2021-06-01  0.29   NaN  \n",
       "       2021-09-01  0.24   NaN  \n",
       "       2021-12-01  0.24   NaN  \n",
       "       2022-03-01  0.46   NaN  \n",
       "\n",
       "[125489 rows x 9 columns]"
      ]
     },
     "execution_count": 40,
     "metadata": {},
     "output_type": "execute_result"
    }
   ],
   "source": [
    "acc1"
   ]
  },
  {
   "cell_type": "code",
   "execution_count": 41,
   "id": "69bbf484",
   "metadata": {},
   "outputs": [],
   "source": [
    "acc1['X1'] = (acc1['R678']/acc1['0010'])*100\n",
    "acc1['X2'] = (acc1['2341']/acc1['0010'])*100\n",
    "acc1['X3'] = (acc1['2402']/acc1['0010'])*100\n",
    "acc1['X4'] = (acc1['MV']/acc1['1000'])*100\n",
    "acc1 = acc1.rename(columns = {'R607':'X5', 'R11V':'X6', 'R505':'X7'})\n",
    "acc2 = acc1[['X1','X2','X3','X4','X5','X6','X7']]"
   ]
  },
  {
   "cell_type": "code",
   "execution_count": 42,
   "id": "2c69f35d",
   "metadata": {},
   "outputs": [],
   "source": [
    "df3 = df2.merge(acc2, on=['公司','年/月']) #合併應變數跟自變數"
   ]
  },
  {
   "cell_type": "code",
   "execution_count": 43,
   "id": "1aef424d",
   "metadata": {},
   "outputs": [],
   "source": [
    "df3 = df3.rename(columns = {'狀況':'Y'})"
   ]
  },
  {
   "cell_type": "code",
   "execution_count": 44,
   "id": "1ab75cab",
   "metadata": {},
   "outputs": [
    {
     "data": {
      "text/html": [
       "<div>\n",
       "<style scoped>\n",
       "    .dataframe tbody tr th:only-of-type {\n",
       "        vertical-align: middle;\n",
       "    }\n",
       "\n",
       "    .dataframe tbody tr th {\n",
       "        vertical-align: top;\n",
       "    }\n",
       "\n",
       "    .dataframe thead th {\n",
       "        text-align: right;\n",
       "    }\n",
       "</style>\n",
       "<table border=\"1\" class=\"dataframe\">\n",
       "  <thead>\n",
       "    <tr style=\"text-align: right;\">\n",
       "      <th></th>\n",
       "      <th>公司</th>\n",
       "      <th>年/月</th>\n",
       "      <th>Y</th>\n",
       "      <th>X1</th>\n",
       "      <th>X2</th>\n",
       "      <th>X3</th>\n",
       "      <th>X4</th>\n",
       "      <th>X5</th>\n",
       "      <th>X6</th>\n",
       "      <th>X7</th>\n",
       "    </tr>\n",
       "  </thead>\n",
       "  <tbody>\n",
       "    <tr>\n",
       "      <th>0</th>\n",
       "      <td>1101</td>\n",
       "      <td>2008-03-01</td>\n",
       "      <td>0</td>\n",
       "      <td>14.380415</td>\n",
       "      <td>8.672234</td>\n",
       "      <td>1.388886</td>\n",
       "      <td>215.029263</td>\n",
       "      <td>0.38</td>\n",
       "      <td>NaN</td>\n",
       "      <td>46.86</td>\n",
       "    </tr>\n",
       "    <tr>\n",
       "      <th>1</th>\n",
       "      <td>1101</td>\n",
       "      <td>2008-06-01</td>\n",
       "      <td>0</td>\n",
       "      <td>6.049163</td>\n",
       "      <td>6.180613</td>\n",
       "      <td>2.820563</td>\n",
       "      <td>135.481445</td>\n",
       "      <td>0.40</td>\n",
       "      <td>NaN</td>\n",
       "      <td>51.40</td>\n",
       "    </tr>\n",
       "    <tr>\n",
       "      <th>2</th>\n",
       "      <td>1101</td>\n",
       "      <td>2008-09-01</td>\n",
       "      <td>0</td>\n",
       "      <td>3.295652</td>\n",
       "      <td>6.987726</td>\n",
       "      <td>4.139193</td>\n",
       "      <td>63.789175</td>\n",
       "      <td>0.43</td>\n",
       "      <td>NaN</td>\n",
       "      <td>52.06</td>\n",
       "    </tr>\n",
       "    <tr>\n",
       "      <th>3</th>\n",
       "      <td>1101</td>\n",
       "      <td>2008-12-01</td>\n",
       "      <td>0</td>\n",
       "      <td>2.454791</td>\n",
       "      <td>7.510703</td>\n",
       "      <td>4.874842</td>\n",
       "      <td>91.828908</td>\n",
       "      <td>0.41</td>\n",
       "      <td>NaN</td>\n",
       "      <td>51.70</td>\n",
       "    </tr>\n",
       "    <tr>\n",
       "      <th>4</th>\n",
       "      <td>1101</td>\n",
       "      <td>2009-03-01</td>\n",
       "      <td>0</td>\n",
       "      <td>5.075376</td>\n",
       "      <td>7.369621</td>\n",
       "      <td>0.578818</td>\n",
       "      <td>92.064356</td>\n",
       "      <td>0.38</td>\n",
       "      <td>NaN</td>\n",
       "      <td>51.81</td>\n",
       "    </tr>\n",
       "    <tr>\n",
       "      <th>...</th>\n",
       "      <td>...</td>\n",
       "      <td>...</td>\n",
       "      <td>...</td>\n",
       "      <td>...</td>\n",
       "      <td>...</td>\n",
       "      <td>...</td>\n",
       "      <td>...</td>\n",
       "      <td>...</td>\n",
       "      <td>...</td>\n",
       "      <td>...</td>\n",
       "    </tr>\n",
       "    <tr>\n",
       "      <th>89902</th>\n",
       "      <td>9962</td>\n",
       "      <td>2021-06-01</td>\n",
       "      <td>0</td>\n",
       "      <td>55.079065</td>\n",
       "      <td>5.972435</td>\n",
       "      <td>4.331177</td>\n",
       "      <td>503.227118</td>\n",
       "      <td>1.83</td>\n",
       "      <td>4.05</td>\n",
       "      <td>22.58</td>\n",
       "    </tr>\n",
       "    <tr>\n",
       "      <th>89903</th>\n",
       "      <td>9962</td>\n",
       "      <td>2021-09-01</td>\n",
       "      <td>0</td>\n",
       "      <td>43.650040</td>\n",
       "      <td>6.941514</td>\n",
       "      <td>6.155575</td>\n",
       "      <td>258.033600</td>\n",
       "      <td>1.64</td>\n",
       "      <td>6.41</td>\n",
       "      <td>39.97</td>\n",
       "    </tr>\n",
       "    <tr>\n",
       "      <th>89904</th>\n",
       "      <td>9962</td>\n",
       "      <td>2021-12-01</td>\n",
       "      <td>0</td>\n",
       "      <td>49.451508</td>\n",
       "      <td>10.478023</td>\n",
       "      <td>10.505071</td>\n",
       "      <td>270.381893</td>\n",
       "      <td>1.85</td>\n",
       "      <td>10.59</td>\n",
       "      <td>35.41</td>\n",
       "    </tr>\n",
       "    <tr>\n",
       "      <th>89905</th>\n",
       "      <td>9962</td>\n",
       "      <td>2022-03-01</td>\n",
       "      <td>0</td>\n",
       "      <td>57.969112</td>\n",
       "      <td>14.440720</td>\n",
       "      <td>3.158543</td>\n",
       "      <td>508.980860</td>\n",
       "      <td>2.10</td>\n",
       "      <td>2.48</td>\n",
       "      <td>24.53</td>\n",
       "    </tr>\n",
       "    <tr>\n",
       "      <th>89906</th>\n",
       "      <td>9965</td>\n",
       "      <td>2008-06-01</td>\n",
       "      <td>0</td>\n",
       "      <td>-9.826917</td>\n",
       "      <td>4.263461</td>\n",
       "      <td>-0.248313</td>\n",
       "      <td>185.335081</td>\n",
       "      <td>0.27</td>\n",
       "      <td>NaN</td>\n",
       "      <td>25.17</td>\n",
       "    </tr>\n",
       "  </tbody>\n",
       "</table>\n",
       "<p>89907 rows × 10 columns</p>\n",
       "</div>"
      ],
      "text/plain": [
       "         公司        年/月  Y         X1         X2         X3          X4    X5  \\\n",
       "0      1101 2008-03-01  0  14.380415   8.672234   1.388886  215.029263  0.38   \n",
       "1      1101 2008-06-01  0   6.049163   6.180613   2.820563  135.481445  0.40   \n",
       "2      1101 2008-09-01  0   3.295652   6.987726   4.139193   63.789175  0.43   \n",
       "3      1101 2008-12-01  0   2.454791   7.510703   4.874842   91.828908  0.41   \n",
       "4      1101 2009-03-01  0   5.075376   7.369621   0.578818   92.064356  0.38   \n",
       "...     ...        ... ..        ...        ...        ...         ...   ...   \n",
       "89902  9962 2021-06-01  0  55.079065   5.972435   4.331177  503.227118  1.83   \n",
       "89903  9962 2021-09-01  0  43.650040   6.941514   6.155575  258.033600  1.64   \n",
       "89904  9962 2021-12-01  0  49.451508  10.478023  10.505071  270.381893  1.85   \n",
       "89905  9962 2022-03-01  0  57.969112  14.440720   3.158543  508.980860  2.10   \n",
       "89906  9965 2008-06-01  0  -9.826917   4.263461  -0.248313  185.335081  0.27   \n",
       "\n",
       "          X6     X7  \n",
       "0        NaN  46.86  \n",
       "1        NaN  51.40  \n",
       "2        NaN  52.06  \n",
       "3        NaN  51.70  \n",
       "4        NaN  51.81  \n",
       "...      ...    ...  \n",
       "89902   4.05  22.58  \n",
       "89903   6.41  39.97  \n",
       "89904  10.59  35.41  \n",
       "89905   2.48  24.53  \n",
       "89906    NaN  25.17  \n",
       "\n",
       "[89907 rows x 10 columns]"
      ]
     },
     "execution_count": 44,
     "metadata": {},
     "output_type": "execute_result"
    }
   ],
   "source": [
    "df3"
   ]
  },
  {
   "cell_type": "markdown",
   "id": "a0d5a98c",
   "metadata": {},
   "source": [
    "linear probility model"
   ]
  },
  {
   "cell_type": "code",
   "execution_count": 45,
   "id": "b541091f",
   "metadata": {},
   "outputs": [
    {
     "name": "stdout",
     "output_type": "stream",
     "text": [
      "                            OLS Regression Results                            \n",
      "==============================================================================\n",
      "Dep. Variable:                      Y   R-squared:                       0.003\n",
      "Model:                            OLS   Adj. R-squared:                  0.002\n",
      "Method:                 Least Squares   F-statistic:                     24.87\n",
      "Date:                Mon, 08 Aug 2022   Prob (F-statistic):           3.80e-34\n",
      "Time:                        15:28:03   Log-Likelihood:             1.2052e+05\n",
      "No. Observations:               68070   AIC:                        -2.410e+05\n",
      "Df Residuals:                   68062   BIC:                        -2.410e+05\n",
      "Df Model:                           7                                         \n",
      "Covariance Type:            nonrobust                                         \n",
      "==============================================================================\n",
      "                 coef    std err          t      P>|t|      [0.025      0.975]\n",
      "------------------------------------------------------------------------------\n",
      "Intercept      0.0017      0.001      2.543      0.011       0.000       0.003\n",
      "X1          2.065e-05   9.48e-06      2.178      0.029    2.07e-06    3.92e-05\n",
      "X2         -1.238e-05   1.52e-06     -8.171      0.000   -1.54e-05   -9.41e-06\n",
      "X3         -6.968e-06   2.72e-05     -0.257      0.798   -6.02e-05    4.63e-05\n",
      "X4         -3.769e-09   3.99e-08     -0.094      0.925    -8.2e-08    7.45e-08\n",
      "X5            -0.0005      0.000     -1.739      0.082      -0.001    6.49e-05\n",
      "X6            -0.0001   3.58e-05     -3.990      0.000      -0.000   -7.27e-05\n",
      "X7          3.221e-06   1.16e-05      0.279      0.780   -1.94e-05    2.59e-05\n",
      "==============================================================================\n",
      "Omnibus:                   160019.041   Durbin-Watson:                   1.160\n",
      "Prob(Omnibus):                  0.000   Jarque-Bera (JB):        957342721.532\n",
      "Skew:                          24.070   Prob(JB):                         0.00\n",
      "Kurtosis:                     581.982   Cond. No.                     1.78e+04\n",
      "==============================================================================\n",
      "\n",
      "Notes:\n",
      "[1] Standard Errors assume that the covariance matrix of the errors is correctly specified.\n",
      "[2] The condition number is large, 1.78e+04. This might indicate that there are\n",
      "strong multicollinearity or other numerical problems.\n"
     ]
    }
   ],
   "source": [
    "result_ols = smf.ols('Y ~ X1 + X2 + X3 + X4 + X5 + X6 + X7', data=df3).fit()\n",
    "print(result_ols.summary())"
   ]
  },
  {
   "cell_type": "markdown",
   "id": "7be640e0",
   "metadata": {},
   "source": [
    "probit model"
   ]
  },
  {
   "cell_type": "code",
   "execution_count": 72,
   "id": "26a0e86f",
   "metadata": {},
   "outputs": [
    {
     "name": "stdout",
     "output_type": "stream",
     "text": [
      "Optimization terminated successfully.\n",
      "         Current function value: 0.012075\n",
      "         Iterations 10\n",
      "                          Probit Regression Results                           \n",
      "==============================================================================\n",
      "Dep. Variable:                      Y   No. Observations:                68070\n",
      "Model:                         Probit   Df Residuals:                    68062\n",
      "Method:                           MLE   Df Model:                            7\n",
      "Date:                Mon, 08 Aug 2022   Pseudo R-squ.:                 0.03904\n",
      "Time:                        15:35:46   Log-Likelihood:                -821.98\n",
      "converged:                       True   LL-Null:                       -855.37\n",
      "Covariance Type:            nonrobust   LLR p-value:                 6.590e-12\n",
      "==============================================================================\n",
      "                 coef    std err          z      P>|z|      [0.025      0.975]\n",
      "------------------------------------------------------------------------------\n",
      "Intercept     -2.9552      0.125    -23.598      0.000      -3.201      -2.710\n",
      "X1             0.0030      0.002      1.798      0.072      -0.000       0.006\n",
      "X2            -0.0002   7.53e-05     -2.395      0.017      -0.000   -3.28e-05\n",
      "X3             0.0012      0.003      0.414      0.679      -0.005       0.007\n",
      "X4         -1.023e-06   6.25e-06     -0.164      0.870   -1.33e-05    1.12e-05\n",
      "X5            -0.1889      0.071     -2.645      0.008      -0.329      -0.049\n",
      "X6            -0.0154      0.004     -3.575      0.000      -0.024      -0.007\n",
      "X7             0.0015      0.002      0.757      0.449      -0.002       0.005\n",
      "==============================================================================\n"
     ]
    }
   ],
   "source": [
    "result_probit = smf.probit('Y ~ X1 + X2 + X3 + X4 + X5 + X6 + X7 ', data=df3).fit()\n",
    "print(result_probit.summary())"
   ]
  },
  {
   "cell_type": "markdown",
   "id": "bc2a0a24",
   "metadata": {},
   "source": [
    "logit model"
   ]
  },
  {
   "cell_type": "code",
   "execution_count": 71,
   "id": "5840a778",
   "metadata": {},
   "outputs": [
    {
     "name": "stdout",
     "output_type": "stream",
     "text": [
      "Optimization terminated successfully.\n",
      "         Current function value: 0.012104\n",
      "         Iterations 11\n",
      "                           Logit Regression Results                           \n",
      "==============================================================================\n",
      "Dep. Variable:                      Y   No. Observations:                68070\n",
      "Model:                          Logit   Df Residuals:                    68062\n",
      "Method:                           MLE   Df Model:                            7\n",
      "Date:                Mon, 08 Aug 2022   Pseudo R-squ.:                 0.03677\n",
      "Time:                        15:30:46   Log-Likelihood:                -823.92\n",
      "converged:                       True   LL-Null:                       -855.37\n",
      "Covariance Type:            nonrobust   LLR p-value:                 3.964e-11\n",
      "==============================================================================\n",
      "                 coef    std err          z      P>|z|      [0.025      0.975]\n",
      "------------------------------------------------------------------------------\n",
      "Intercept     -6.3726      0.381    -16.710      0.000      -7.120      -5.625\n",
      "X1             0.0078      0.005      1.542      0.123      -0.002       0.018\n",
      "X2            -0.0003      0.000     -2.079      0.038      -0.001   -1.92e-05\n",
      "X3             0.0031      0.007      0.472      0.637      -0.010       0.016\n",
      "X4         -2.822e-06   1.85e-05     -0.153      0.878    -3.9e-05    3.34e-05\n",
      "X5            -0.6255      0.231     -2.713      0.007      -1.077      -0.174\n",
      "X6            -0.0412      0.010     -4.143      0.000      -0.061      -0.022\n",
      "X7             0.0043      0.006      0.715      0.475      -0.007       0.016\n",
      "==============================================================================\n"
     ]
    }
   ],
   "source": [
    "result_Logit = smf.logit('Y ~ X1 + X2 + X3 + X4 + X5 + X6 + X7  ', data=df3).fit()\n",
    "print(result_Logit.summary())"
   ]
  },
  {
   "cell_type": "markdown",
   "id": "926e3482",
   "metadata": {},
   "source": [
    "台積電"
   ]
  },
  {
   "cell_type": "code",
   "execution_count": 50,
   "id": "6e203d86",
   "metadata": {},
   "outputs": [],
   "source": [
    "TSMC = df3[df3['公司']=='2330']"
   ]
  },
  {
   "cell_type": "code",
   "execution_count": 51,
   "id": "58b0d1c6",
   "metadata": {},
   "outputs": [],
   "source": [
    "a = TSMC.iloc[-1:,:] #取得最新一筆資料"
   ]
  },
  {
   "cell_type": "code",
   "execution_count": 52,
   "id": "9fa5eb34",
   "metadata": {},
   "outputs": [
    {
     "data": {
      "text/plain": [
       "17443    0.000587\n",
       "dtype: float64"
      ]
     },
     "execution_count": 52,
     "metadata": {},
     "output_type": "execute_result"
    }
   ],
   "source": [
    "result_ols.predict(a) #linear probility model"
   ]
  },
  {
   "cell_type": "code",
   "execution_count": 53,
   "id": "5a43c5c6",
   "metadata": {},
   "outputs": [
    {
     "data": {
      "text/plain": [
       "17443    0.001299\n",
       "dtype: float64"
      ]
     },
     "execution_count": 53,
     "metadata": {},
     "output_type": "execute_result"
    }
   ],
   "source": [
    "result_probit.predict(a) #probit model"
   ]
  },
  {
   "cell_type": "code",
   "execution_count": 54,
   "id": "4246afa1",
   "metadata": {},
   "outputs": [
    {
     "data": {
      "text/plain": [
       "17443    0.001398\n",
       "dtype: float64"
      ]
     },
     "execution_count": 54,
     "metadata": {},
     "output_type": "execute_result"
    }
   ],
   "source": [
    "result_Logit.predict(a) #logit model"
   ]
  },
  {
   "cell_type": "markdown",
   "id": "594f0721",
   "metadata": {},
   "source": [
    "英瑞ky"
   ]
  },
  {
   "cell_type": "code",
   "execution_count": 55,
   "id": "ff6c8c1d",
   "metadata": {},
   "outputs": [],
   "source": [
    "Enterex = df3[df3['公司']=='1592']"
   ]
  },
  {
   "cell_type": "code",
   "execution_count": 56,
   "id": "8fc7fb2c",
   "metadata": {},
   "outputs": [],
   "source": [
    "b = Enterex.iloc[-1:,:]"
   ]
  },
  {
   "cell_type": "code",
   "execution_count": 57,
   "id": "1ca80cb6",
   "metadata": {},
   "outputs": [
    {
     "data": {
      "text/plain": [
       "8610    0.002987\n",
       "dtype: float64"
      ]
     },
     "execution_count": 57,
     "metadata": {},
     "output_type": "execute_result"
    }
   ],
   "source": [
    "result_ols.predict(b) #linear probility model"
   ]
  },
  {
   "cell_type": "code",
   "execution_count": 58,
   "id": "03394ea5",
   "metadata": {},
   "outputs": [
    {
     "data": {
      "text/plain": [
       "8610    0.002103\n",
       "dtype: float64"
      ]
     },
     "execution_count": 58,
     "metadata": {},
     "output_type": "execute_result"
    }
   ],
   "source": [
    "result_probit.predict(b) #probit model"
   ]
  },
  {
   "cell_type": "code",
   "execution_count": 59,
   "id": "56f10a3b",
   "metadata": {},
   "outputs": [
    {
     "data": {
      "text/plain": [
       "8610    0.002126\n",
       "dtype: float64"
      ]
     },
     "execution_count": 59,
     "metadata": {},
     "output_type": "execute_result"
    }
   ],
   "source": [
    "result_Logit.predict(b) #logit model"
   ]
  },
  {
   "cell_type": "markdown",
   "id": "4939ea95",
   "metadata": {},
   "source": [
    "華映"
   ]
  },
  {
   "cell_type": "code",
   "execution_count": 60,
   "id": "8881ecef",
   "metadata": {},
   "outputs": [],
   "source": [
    "CPT = df3[df3['公司']=='2475']"
   ]
  },
  {
   "cell_type": "code",
   "execution_count": 61,
   "id": "85d11755",
   "metadata": {},
   "outputs": [],
   "source": [
    "d = CPT.iloc[-1:,:]"
   ]
  },
  {
   "cell_type": "code",
   "execution_count": 62,
   "id": "c233994d",
   "metadata": {},
   "outputs": [
    {
     "data": {
      "text/plain": [
       "23362    0.007564\n",
       "dtype: float64"
      ]
     },
     "execution_count": 62,
     "metadata": {},
     "output_type": "execute_result"
    }
   ],
   "source": [
    "result_ols.predict(d) #linear probility model"
   ]
  },
  {
   "cell_type": "code",
   "execution_count": 63,
   "id": "b54522f7",
   "metadata": {},
   "outputs": [
    {
     "data": {
      "text/plain": [
       "23362    0.003495\n",
       "dtype: float64"
      ]
     },
     "execution_count": 63,
     "metadata": {},
     "output_type": "execute_result"
    }
   ],
   "source": [
    "result_probit.predict(d) #probit model"
   ]
  },
  {
   "cell_type": "code",
   "execution_count": 64,
   "id": "0c2ef353",
   "metadata": {},
   "outputs": [
    {
     "data": {
      "text/plain": [
       "23362    0.003349\n",
       "dtype: float64"
      ]
     },
     "execution_count": 64,
     "metadata": {},
     "output_type": "execute_result"
    }
   ],
   "source": [
    "result_Logit.predict(d) #logit model"
   ]
  },
  {
   "cell_type": "markdown",
   "id": "beccf0d7",
   "metadata": {},
   "source": [
    "和進"
   ]
  },
  {
   "cell_type": "code",
   "execution_count": 94,
   "id": "7d48013b",
   "metadata": {},
   "outputs": [],
   "source": [
    "hold = df3[df3['公司']=='3191']"
   ]
  },
  {
   "cell_type": "code",
   "execution_count": 95,
   "id": "fd903bd0",
   "metadata": {},
   "outputs": [],
   "source": [
    "e = hold.iloc[-1:,:]"
   ]
  },
  {
   "cell_type": "code",
   "execution_count": 96,
   "id": "7d7ffef3",
   "metadata": {},
   "outputs": [
    {
     "data": {
      "text/plain": [
       "35206    0.004523\n",
       "dtype: float64"
      ]
     },
     "execution_count": 96,
     "metadata": {},
     "output_type": "execute_result"
    }
   ],
   "source": [
    "result_ols.predict(e) #linear probility model"
   ]
  },
  {
   "cell_type": "code",
   "execution_count": 97,
   "id": "7433a656",
   "metadata": {},
   "outputs": [
    {
     "data": {
      "text/plain": [
       "35206    0.002643\n",
       "dtype: float64"
      ]
     },
     "execution_count": 97,
     "metadata": {},
     "output_type": "execute_result"
    }
   ],
   "source": [
    "result_probit.predict(e) #probit model"
   ]
  },
  {
   "cell_type": "code",
   "execution_count": 98,
   "id": "6a1f75b6",
   "metadata": {},
   "outputs": [
    {
     "data": {
      "text/plain": [
       "35206    0.002426\n",
       "dtype: float64"
      ]
     },
     "execution_count": 98,
     "metadata": {},
     "output_type": "execute_result"
    }
   ],
   "source": [
    "result_Logit.predict(e) #logit model"
   ]
  },
  {
   "cell_type": "code",
   "execution_count": null,
   "id": "38605081",
   "metadata": {},
   "outputs": [],
   "source": []
  }
 ],
 "metadata": {
  "kernelspec": {
   "display_name": "Python 3",
   "language": "python",
   "name": "python3"
  },
  "language_info": {
   "codemirror_mode": {
    "name": "ipython",
    "version": 3
   },
   "file_extension": ".py",
   "mimetype": "text/x-python",
   "name": "python",
   "nbconvert_exporter": "python",
   "pygments_lexer": "ipython3",
   "version": "3.8.8"
  }
 },
 "nbformat": 4,
 "nbformat_minor": 5
}
