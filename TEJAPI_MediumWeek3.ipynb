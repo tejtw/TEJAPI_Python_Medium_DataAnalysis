{
 "cells": [
  {
   "cell_type": "markdown",
   "id": "accessible-asian",
   "metadata": {},
   "source": [
    "## Week 3 Medium - Numpy/Pandas"
   ]
  },
  {
   "cell_type": "code",
   "execution_count": 1,
   "id": "individual-memorial",
   "metadata": {},
   "outputs": [],
   "source": [
    "import pandas as pd\n",
    "import numpy as np\n",
    "import datetime\n",
    "\n",
    "import tejapi\n",
    "tejapi.ApiConfig.api_key = \"Your Key\""
   ]
  },
  {
   "cell_type": "markdown",
   "id": "occupational-protection",
   "metadata": {},
   "source": [
    "### Numpy - 基礎應用（單維）"
   ]
  },
  {
   "cell_type": "code",
   "execution_count": 2,
   "id": "concrete-museum",
   "metadata": {},
   "outputs": [],
   "source": [
    "a = np.array([0, 0.5, 1.0, 1.5, 2.0]) #float ndarray \n",
    "b = np.array(['a', 'b', 'c']) #string ndarray        \n",
    "c = np.arange(0, 10, 2)"
   ]
  },
  {
   "cell_type": "code",
   "execution_count": 3,
   "id": "daily-windsor",
   "metadata": {},
   "outputs": [
    {
     "data": {
      "text/plain": [
       "numpy.ndarray"
      ]
     },
     "execution_count": 3,
     "metadata": {},
     "output_type": "execute_result"
    }
   ],
   "source": [
    "type(a)"
   ]
  },
  {
   "cell_type": "code",
   "execution_count": 4,
   "id": "trying-hungary",
   "metadata": {},
   "outputs": [
    {
     "data": {
      "text/plain": [
       "array([0, 2, 4, 6, 8])"
      ]
     },
     "execution_count": 4,
     "metadata": {},
     "output_type": "execute_result"
    }
   ],
   "source": [
    "c"
   ]
  },
  {
   "cell_type": "code",
   "execution_count": 5,
   "id": "twelve-combining",
   "metadata": {},
   "outputs": [
    {
     "data": {
      "text/plain": [
       "array([4, 6, 8])"
      ]
     },
     "execution_count": 5,
     "metadata": {},
     "output_type": "execute_result"
    }
   ],
   "source": [
    "c[2:]"
   ]
  },
  {
   "cell_type": "code",
   "execution_count": 6,
   "id": "systematic-utility",
   "metadata": {},
   "outputs": [
    {
     "data": {
      "text/plain": [
       "array([0, 2])"
      ]
     },
     "execution_count": 6,
     "metadata": {},
     "output_type": "execute_result"
    }
   ],
   "source": [
    "c[:2]"
   ]
  },
  {
   "cell_type": "markdown",
   "id": "moved-awareness",
   "metadata": {},
   "source": [
    "### Numpy - 數學工具"
   ]
  },
  {
   "cell_type": "code",
   "execution_count": 7,
   "id": "sorted-alfred",
   "metadata": {},
   "outputs": [
    {
     "data": {
      "text/plain": [
       "array([ 0,  2,  4,  6,  8, 10, 12, 14, 16, 18, 20, 22, 24, 26, 28])"
      ]
     },
     "execution_count": 7,
     "metadata": {},
     "output_type": "execute_result"
    }
   ],
   "source": [
    "a = np.arange(0, 30, 2)\n",
    "a"
   ]
  },
  {
   "cell_type": "code",
   "execution_count": 8,
   "id": "latin-peninsula",
   "metadata": {},
   "outputs": [
    {
     "data": {
      "text/plain": [
       "210"
      ]
     },
     "execution_count": 8,
     "metadata": {},
     "output_type": "execute_result"
    }
   ],
   "source": [
    "a.sum()"
   ]
  },
  {
   "cell_type": "code",
   "execution_count": 9,
   "id": "alien-assurance",
   "metadata": {},
   "outputs": [
    {
     "data": {
      "text/plain": [
       "14.0"
      ]
     },
     "execution_count": 9,
     "metadata": {},
     "output_type": "execute_result"
    }
   ],
   "source": [
    "a.mean()"
   ]
  },
  {
   "cell_type": "code",
   "execution_count": 10,
   "id": "level-amplifier",
   "metadata": {},
   "outputs": [
    {
     "data": {
      "text/plain": [
       "8.640987597877148"
      ]
     },
     "execution_count": 10,
     "metadata": {},
     "output_type": "execute_result"
    }
   ],
   "source": [
    "a.std()"
   ]
  },
  {
   "cell_type": "code",
   "execution_count": 11,
   "id": "canadian-missile",
   "metadata": {},
   "outputs": [
    {
     "data": {
      "text/plain": [
       "array([  0,   2,   6,  12,  20,  30,  42,  56,  72,  90, 110, 132, 156,\n",
       "       182, 210], dtype=int32)"
      ]
     },
     "execution_count": 11,
     "metadata": {},
     "output_type": "execute_result"
    }
   ],
   "source": [
    "a.cumsum()"
   ]
  },
  {
   "cell_type": "code",
   "execution_count": 12,
   "id": "primary-suspect",
   "metadata": {},
   "outputs": [
    {
     "data": {
      "text/plain": [
       "[0, 2, 4, 0, 2, 4]"
      ]
     },
     "execution_count": 12,
     "metadata": {},
     "output_type": "execute_result"
    }
   ],
   "source": [
    "lst = [0, 2, 4]\n",
    "lst*2 "
   ]
  },
  {
   "cell_type": "code",
   "execution_count": 13,
   "id": "cubic-external",
   "metadata": {},
   "outputs": [
    {
     "data": {
      "text/plain": [
       "array([ 0,  4,  8, 12, 16, 20, 24, 28, 32, 36, 40, 44, 48, 52, 56])"
      ]
     },
     "execution_count": 13,
     "metadata": {},
     "output_type": "execute_result"
    }
   ],
   "source": [
    "a+a"
   ]
  },
  {
   "cell_type": "code",
   "execution_count": 14,
   "id": "combined-latin",
   "metadata": {},
   "outputs": [
    {
     "data": {
      "text/plain": [
       "array([  0,   4,  16,  36,  64, 100, 144, 196, 256, 324, 400, 484, 576,\n",
       "       676, 784])"
      ]
     },
     "execution_count": 14,
     "metadata": {},
     "output_type": "execute_result"
    }
   ],
   "source": [
    "a*a"
   ]
  },
  {
   "cell_type": "markdown",
   "id": "infrared-cemetery",
   "metadata": {},
   "source": [
    "### Numpy-基礎應用(多維)"
   ]
  },
  {
   "cell_type": "code",
   "execution_count": 15,
   "id": "available-scope",
   "metadata": {},
   "outputs": [
    {
     "data": {
      "text/plain": [
       "array([[ 0,  2,  4,  6,  8, 10, 12, 14, 16, 18, 20, 22, 24, 26, 28],\n",
       "       [ 0,  4,  8, 12, 16, 20, 24, 28, 32, 36, 40, 44, 48, 52, 56]])"
      ]
     },
     "execution_count": 15,
     "metadata": {},
     "output_type": "execute_result"
    }
   ],
   "source": [
    "b = np.array([a, a*2])\n",
    "b"
   ]
  },
  {
   "cell_type": "code",
   "execution_count": 16,
   "id": "turned-incident",
   "metadata": {},
   "outputs": [
    {
     "data": {
      "text/plain": [
       "array([ 0,  2,  4,  6,  8, 10, 12, 14, 16, 18, 20, 22, 24, 26, 28])"
      ]
     },
     "execution_count": 16,
     "metadata": {},
     "output_type": "execute_result"
    }
   ],
   "source": [
    "b[0]"
   ]
  },
  {
   "cell_type": "code",
   "execution_count": 17,
   "id": "judicial-adventure",
   "metadata": {},
   "outputs": [
    {
     "data": {
      "text/plain": [
       "2"
      ]
     },
     "execution_count": 17,
     "metadata": {},
     "output_type": "execute_result"
    }
   ],
   "source": [
    "b[0][1]"
   ]
  },
  {
   "cell_type": "code",
   "execution_count": 18,
   "id": "veterinary-blues",
   "metadata": {},
   "outputs": [
    {
     "data": {
      "text/plain": [
       "array([210, 420])"
      ]
     },
     "execution_count": 18,
     "metadata": {},
     "output_type": "execute_result"
    }
   ],
   "source": [
    "b.sum(axis = 1)"
   ]
  },
  {
   "cell_type": "code",
   "execution_count": 19,
   "id": "breathing-edinburgh",
   "metadata": {},
   "outputs": [
    {
     "data": {
      "text/plain": [
       "(2, 15)"
      ]
     },
     "execution_count": 19,
     "metadata": {},
     "output_type": "execute_result"
    }
   ],
   "source": [
    "b.shape"
   ]
  },
  {
   "cell_type": "code",
   "execution_count": 20,
   "id": "ancient-conversion",
   "metadata": {},
   "outputs": [
    {
     "data": {
      "text/plain": [
       "array([[ 0,  2,  4,  6,  8, 10],\n",
       "       [12, 14, 16, 18, 20, 22],\n",
       "       [24, 26, 28,  0,  4,  8],\n",
       "       [12, 16, 20, 24, 28, 32],\n",
       "       [36, 40, 44, 48, 52, 56]])"
      ]
     },
     "execution_count": 20,
     "metadata": {},
     "output_type": "execute_result"
    }
   ],
   "source": [
    "b.reshape(5,6)"
   ]
  },
  {
   "cell_type": "markdown",
   "id": "optimum-worse",
   "metadata": {},
   "source": [
    "### Numpy-其他應用（布林、隨機變數、財務）"
   ]
  },
  {
   "cell_type": "code",
   "execution_count": 21,
   "id": "speaking-explosion",
   "metadata": {},
   "outputs": [
    {
     "data": {
      "text/plain": [
       "array([[False, False, False, False, False, False, False, False,  True,\n",
       "         True,  True,  True,  True,  True,  True],\n",
       "       [False, False, False, False,  True,  True,  True,  True,  True,\n",
       "         True,  True,  True,  True,  True,  True]])"
      ]
     },
     "execution_count": 21,
     "metadata": {},
     "output_type": "execute_result"
    }
   ],
   "source": [
    "b > 15"
   ]
  },
  {
   "cell_type": "code",
   "execution_count": 22,
   "id": "vocational-algorithm",
   "metadata": {},
   "outputs": [
    {
     "data": {
      "text/plain": [
       "array([[0, 0, 0, 0, 0, 0, 0, 0, 1, 1, 1, 1, 1, 1, 1],\n",
       "       [0, 0, 0, 0, 1, 1, 1, 1, 1, 1, 1, 1, 1, 1, 1]])"
      ]
     },
     "execution_count": 22,
     "metadata": {},
     "output_type": "execute_result"
    }
   ],
   "source": [
    "np.where(b>15, 1, 0)"
   ]
  },
  {
   "cell_type": "code",
   "execution_count": 23,
   "id": "anonymous-terrace",
   "metadata": {},
   "outputs": [
    {
     "data": {
      "text/plain": [
       "array([2.24296179, 2.478592  , 4.18932029, 7.02943255, 5.59048448,\n",
       "       6.00739446, 5.37141092, 5.07975945, 6.53257908, 3.33012048])"
      ]
     },
     "execution_count": 23,
     "metadata": {},
     "output_type": "execute_result"
    }
   ],
   "source": [
    "np.random.normal(5, 2, 10)"
   ]
  },
  {
   "cell_type": "code",
   "execution_count": 24,
   "id": "occupied-infrared",
   "metadata": {},
   "outputs": [
    {
     "data": {
      "text/plain": [
       "array([-1.51642231, -0.2764328 , -0.10786734, -0.12087296,  0.3854238 ])"
      ]
     },
     "execution_count": 24,
     "metadata": {},
     "output_type": "execute_result"
    }
   ],
   "source": [
    "np.random.standard_normal(5)"
   ]
  },
  {
   "cell_type": "markdown",
   "id": "reflected-faculty",
   "metadata": {},
   "source": [
    "#### 財務"
   ]
  },
  {
   "cell_type": "raw",
   "id": "fiscal-mississippi",
   "metadata": {},
   "source": [
    "pip install numpy_financial"
   ]
  },
  {
   "cell_type": "code",
   "execution_count": 25,
   "id": "eleven-equipment",
   "metadata": {},
   "outputs": [],
   "source": [
    "import numpy_financial as npf"
   ]
  },
  {
   "cell_type": "code",
   "execution_count": 26,
   "id": "loved-syracuse",
   "metadata": {},
   "outputs": [
    {
     "data": {
      "text/plain": [
       "1159.2740743000002"
      ]
     },
     "execution_count": 26,
     "metadata": {},
     "output_type": "execute_result"
    }
   ],
   "source": [
    "npf.fv(0.03, 5, 0, -1000)"
   ]
  },
  {
   "cell_type": "code",
   "execution_count": 27,
   "id": "pointed-chamber",
   "metadata": {},
   "outputs": [
    {
     "data": {
      "text/plain": [
       "0.043901374797270964"
      ]
     },
     "execution_count": 27,
     "metadata": {},
     "output_type": "execute_result"
    }
   ],
   "source": [
    "npf.irr([-95,3,3,3,103])"
   ]
  },
  {
   "cell_type": "markdown",
   "id": "amateur-fishing",
   "metadata": {},
   "source": [
    "### Pandas-基礎應用"
   ]
  },
  {
   "cell_type": "code",
   "execution_count": 28,
   "id": "consecutive-transport",
   "metadata": {},
   "outputs": [],
   "source": [
    "import pandas as pd\n",
    "df = pd.DataFrame([1, 2, 3, 4],\n",
    "                  columns = ['Numbers'],\n",
    "                  index = ['index_a','index_b','index_c','index_d'])"
   ]
  },
  {
   "cell_type": "code",
   "execution_count": 29,
   "id": "canadian-figure",
   "metadata": {},
   "outputs": [
    {
     "data": {
      "text/html": [
       "<div>\n",
       "<style scoped>\n",
       "    .dataframe tbody tr th:only-of-type {\n",
       "        vertical-align: middle;\n",
       "    }\n",
       "\n",
       "    .dataframe tbody tr th {\n",
       "        vertical-align: top;\n",
       "    }\n",
       "\n",
       "    .dataframe thead th {\n",
       "        text-align: right;\n",
       "    }\n",
       "</style>\n",
       "<table border=\"1\" class=\"dataframe\">\n",
       "  <thead>\n",
       "    <tr style=\"text-align: right;\">\n",
       "      <th></th>\n",
       "      <th>Numbers</th>\n",
       "    </tr>\n",
       "  </thead>\n",
       "  <tbody>\n",
       "    <tr>\n",
       "      <th>index_a</th>\n",
       "      <td>1</td>\n",
       "    </tr>\n",
       "    <tr>\n",
       "      <th>index_b</th>\n",
       "      <td>2</td>\n",
       "    </tr>\n",
       "    <tr>\n",
       "      <th>index_c</th>\n",
       "      <td>3</td>\n",
       "    </tr>\n",
       "    <tr>\n",
       "      <th>index_d</th>\n",
       "      <td>4</td>\n",
       "    </tr>\n",
       "  </tbody>\n",
       "</table>\n",
       "</div>"
      ],
      "text/plain": [
       "         Numbers\n",
       "index_a        1\n",
       "index_b        2\n",
       "index_c        3\n",
       "index_d        4"
      ]
     },
     "execution_count": 29,
     "metadata": {},
     "output_type": "execute_result"
    }
   ],
   "source": [
    "df"
   ]
  },
  {
   "cell_type": "code",
   "execution_count": 30,
   "id": "studied-metro",
   "metadata": {},
   "outputs": [
    {
     "data": {
      "text/plain": [
       "Index(['index_a', 'index_b', 'index_c', 'index_d'], dtype='object')"
      ]
     },
     "execution_count": 30,
     "metadata": {},
     "output_type": "execute_result"
    }
   ],
   "source": [
    "df.index"
   ]
  },
  {
   "cell_type": "code",
   "execution_count": 31,
   "id": "absent-glucose",
   "metadata": {},
   "outputs": [
    {
     "data": {
      "text/plain": [
       "Index(['Numbers'], dtype='object')"
      ]
     },
     "execution_count": 31,
     "metadata": {},
     "output_type": "execute_result"
    }
   ],
   "source": [
    "df.columns"
   ]
  },
  {
   "cell_type": "code",
   "execution_count": 32,
   "id": "expanded-contemporary",
   "metadata": {},
   "outputs": [
    {
     "data": {
      "text/plain": [
       "Numbers    1\n",
       "Name: index_a, dtype: int64"
      ]
     },
     "execution_count": 32,
     "metadata": {},
     "output_type": "execute_result"
    }
   ],
   "source": [
    "df.loc['index_a']"
   ]
  },
  {
   "cell_type": "code",
   "execution_count": 33,
   "id": "paperback-governor",
   "metadata": {},
   "outputs": [
    {
     "data": {
      "text/html": [
       "<div>\n",
       "<style scoped>\n",
       "    .dataframe tbody tr th:only-of-type {\n",
       "        vertical-align: middle;\n",
       "    }\n",
       "\n",
       "    .dataframe tbody tr th {\n",
       "        vertical-align: top;\n",
       "    }\n",
       "\n",
       "    .dataframe thead th {\n",
       "        text-align: right;\n",
       "    }\n",
       "</style>\n",
       "<table border=\"1\" class=\"dataframe\">\n",
       "  <thead>\n",
       "    <tr style=\"text-align: right;\">\n",
       "      <th></th>\n",
       "      <th>Numbers</th>\n",
       "    </tr>\n",
       "  </thead>\n",
       "  <tbody>\n",
       "    <tr>\n",
       "      <th>index_a</th>\n",
       "      <td>1</td>\n",
       "    </tr>\n",
       "    <tr>\n",
       "      <th>index_b</th>\n",
       "      <td>2</td>\n",
       "    </tr>\n",
       "    <tr>\n",
       "      <th>index_c</th>\n",
       "      <td>3</td>\n",
       "    </tr>\n",
       "  </tbody>\n",
       "</table>\n",
       "</div>"
      ],
      "text/plain": [
       "         Numbers\n",
       "index_a        1\n",
       "index_b        2\n",
       "index_c        3"
      ]
     },
     "execution_count": 33,
     "metadata": {},
     "output_type": "execute_result"
    }
   ],
   "source": [
    "df.iloc[0:3]"
   ]
  },
  {
   "cell_type": "code",
   "execution_count": 34,
   "id": "choice-vegetarian",
   "metadata": {},
   "outputs": [
    {
     "data": {
      "text/html": [
       "<div>\n",
       "<style scoped>\n",
       "    .dataframe tbody tr th:only-of-type {\n",
       "        vertical-align: middle;\n",
       "    }\n",
       "\n",
       "    .dataframe tbody tr th {\n",
       "        vertical-align: top;\n",
       "    }\n",
       "\n",
       "    .dataframe thead th {\n",
       "        text-align: right;\n",
       "    }\n",
       "</style>\n",
       "<table border=\"1\" class=\"dataframe\">\n",
       "  <thead>\n",
       "    <tr style=\"text-align: right;\">\n",
       "      <th></th>\n",
       "      <th>Numbers</th>\n",
       "    </tr>\n",
       "  </thead>\n",
       "  <tbody>\n",
       "    <tr>\n",
       "      <th>index_a</th>\n",
       "      <td>2</td>\n",
       "    </tr>\n",
       "    <tr>\n",
       "      <th>index_b</th>\n",
       "      <td>4</td>\n",
       "    </tr>\n",
       "    <tr>\n",
       "      <th>index_c</th>\n",
       "      <td>6</td>\n",
       "    </tr>\n",
       "    <tr>\n",
       "      <th>index_d</th>\n",
       "      <td>8</td>\n",
       "    </tr>\n",
       "  </tbody>\n",
       "</table>\n",
       "</div>"
      ],
      "text/plain": [
       "         Numbers\n",
       "index_a        2\n",
       "index_b        4\n",
       "index_c        6\n",
       "index_d        8"
      ]
     },
     "execution_count": 34,
     "metadata": {},
     "output_type": "execute_result"
    }
   ],
   "source": [
    "df * 2"
   ]
  },
  {
   "cell_type": "code",
   "execution_count": 35,
   "id": "acquired-religious",
   "metadata": {},
   "outputs": [],
   "source": [
    "df['Name'] = ['Amy', 'Bob', 'Catherine', 'Duke']"
   ]
  },
  {
   "cell_type": "code",
   "execution_count": 36,
   "id": "concrete-painting",
   "metadata": {},
   "outputs": [
    {
     "data": {
      "text/html": [
       "<div>\n",
       "<style scoped>\n",
       "    .dataframe tbody tr th:only-of-type {\n",
       "        vertical-align: middle;\n",
       "    }\n",
       "\n",
       "    .dataframe tbody tr th {\n",
       "        vertical-align: top;\n",
       "    }\n",
       "\n",
       "    .dataframe thead th {\n",
       "        text-align: right;\n",
       "    }\n",
       "</style>\n",
       "<table border=\"1\" class=\"dataframe\">\n",
       "  <thead>\n",
       "    <tr style=\"text-align: right;\">\n",
       "      <th></th>\n",
       "      <th>Numbers</th>\n",
       "      <th>Name</th>\n",
       "    </tr>\n",
       "  </thead>\n",
       "  <tbody>\n",
       "    <tr>\n",
       "      <th>index_a</th>\n",
       "      <td>1</td>\n",
       "      <td>Amy</td>\n",
       "    </tr>\n",
       "    <tr>\n",
       "      <th>index_b</th>\n",
       "      <td>2</td>\n",
       "      <td>Bob</td>\n",
       "    </tr>\n",
       "    <tr>\n",
       "      <th>index_c</th>\n",
       "      <td>3</td>\n",
       "      <td>Catherine</td>\n",
       "    </tr>\n",
       "    <tr>\n",
       "      <th>index_d</th>\n",
       "      <td>4</td>\n",
       "      <td>Duke</td>\n",
       "    </tr>\n",
       "  </tbody>\n",
       "</table>\n",
       "</div>"
      ],
      "text/plain": [
       "         Numbers       Name\n",
       "index_a        1        Amy\n",
       "index_b        2        Bob\n",
       "index_c        3  Catherine\n",
       "index_d        4       Duke"
      ]
     },
     "execution_count": 36,
     "metadata": {},
     "output_type": "execute_result"
    }
   ],
   "source": [
    "df"
   ]
  },
  {
   "cell_type": "code",
   "execution_count": 37,
   "id": "bibliographic-church",
   "metadata": {},
   "outputs": [
    {
     "data": {
      "text/plain": [
       "index_a    1\n",
       "index_b    2\n",
       "index_c    3\n",
       "index_d    4\n",
       "Name: Numbers, dtype: int64"
      ]
     },
     "execution_count": 37,
     "metadata": {},
     "output_type": "execute_result"
    }
   ],
   "source": [
    "df['Numbers']"
   ]
  },
  {
   "cell_type": "code",
   "execution_count": 38,
   "id": "found-estonia",
   "metadata": {},
   "outputs": [
    {
     "data": {
      "text/plain": [
       "10"
      ]
     },
     "execution_count": 38,
     "metadata": {},
     "output_type": "execute_result"
    }
   ],
   "source": [
    "df['Numbers'].sum()"
   ]
  },
  {
   "cell_type": "code",
   "execution_count": 39,
   "id": "featured-guidance",
   "metadata": {},
   "outputs": [
    {
     "data": {
      "text/plain": [
       "2.5"
      ]
     },
     "execution_count": 39,
     "metadata": {},
     "output_type": "execute_result"
    }
   ],
   "source": [
    "df['Numbers'].mean()"
   ]
  },
  {
   "cell_type": "code",
   "execution_count": 40,
   "id": "pretty-division",
   "metadata": {},
   "outputs": [
    {
     "data": {
      "text/plain": [
       "1.2909944487358056"
      ]
     },
     "execution_count": 40,
     "metadata": {},
     "output_type": "execute_result"
    }
   ],
   "source": [
    "df['Numbers'].std()"
   ]
  },
  {
   "cell_type": "code",
   "execution_count": 41,
   "id": "brave-pennsylvania",
   "metadata": {},
   "outputs": [
    {
     "data": {
      "text/plain": [
       "Numbers      1\n",
       "Name       Amy\n",
       "Name: index_a, dtype: object"
      ]
     },
     "execution_count": 41,
     "metadata": {},
     "output_type": "execute_result"
    }
   ],
   "source": [
    "df.loc['index_a']"
   ]
  },
  {
   "cell_type": "code",
   "execution_count": 42,
   "id": "adopted-authentication",
   "metadata": {},
   "outputs": [
    {
     "data": {
      "text/html": [
       "<div>\n",
       "<style scoped>\n",
       "    .dataframe tbody tr th:only-of-type {\n",
       "        vertical-align: middle;\n",
       "    }\n",
       "\n",
       "    .dataframe tbody tr th {\n",
       "        vertical-align: top;\n",
       "    }\n",
       "\n",
       "    .dataframe thead th {\n",
       "        text-align: right;\n",
       "    }\n",
       "</style>\n",
       "<table border=\"1\" class=\"dataframe\">\n",
       "  <thead>\n",
       "    <tr style=\"text-align: right;\">\n",
       "      <th></th>\n",
       "      <th>Name</th>\n",
       "    </tr>\n",
       "  </thead>\n",
       "  <tbody>\n",
       "    <tr>\n",
       "      <th>index_a</th>\n",
       "      <td>Amy</td>\n",
       "    </tr>\n",
       "    <tr>\n",
       "      <th>index_b</th>\n",
       "      <td>Bob</td>\n",
       "    </tr>\n",
       "    <tr>\n",
       "      <th>index_c</th>\n",
       "      <td>Catherine</td>\n",
       "    </tr>\n",
       "    <tr>\n",
       "      <th>index_d</th>\n",
       "      <td>Duke</td>\n",
       "    </tr>\n",
       "  </tbody>\n",
       "</table>\n",
       "</div>"
      ],
      "text/plain": [
       "              Name\n",
       "index_a        Amy\n",
       "index_b        Bob\n",
       "index_c  Catherine\n",
       "index_d       Duke"
      ]
     },
     "execution_count": 42,
     "metadata": {},
     "output_type": "execute_result"
    }
   ],
   "source": [
    "df.drop('Numbers', axis = 1)"
   ]
  },
  {
   "cell_type": "markdown",
   "id": "dated-driver",
   "metadata": {},
   "source": [
    "### Pandas-基礎分析"
   ]
  },
  {
   "cell_type": "code",
   "execution_count": 43,
   "id": "dental-turkey",
   "metadata": {},
   "outputs": [],
   "source": [
    "import tejapi\n",
    "tejapi.ApiConfig.api_key = \"Your Key\"\n",
    "df = tejapi.get('TWN/EWPRCD', \n",
    "coid = ['2330'],\n",
    "mdate={'gte':'2020-01-01', 'lte':'2020-12-31'}, \n",
    "opts={'columns': ['mdate','open_d','high_d','low_d','close_d']}, \n",
    "paginate=True\n",
    ")"
   ]
  },
  {
   "cell_type": "code",
   "execution_count": 44,
   "id": "fluid-mineral",
   "metadata": {},
   "outputs": [
    {
     "data": {
      "text/html": [
       "<div>\n",
       "<style scoped>\n",
       "    .dataframe tbody tr th:only-of-type {\n",
       "        vertical-align: middle;\n",
       "    }\n",
       "\n",
       "    .dataframe tbody tr th {\n",
       "        vertical-align: top;\n",
       "    }\n",
       "\n",
       "    .dataframe thead th {\n",
       "        text-align: right;\n",
       "    }\n",
       "</style>\n",
       "<table border=\"1\" class=\"dataframe\">\n",
       "  <thead>\n",
       "    <tr style=\"text-align: right;\">\n",
       "      <th></th>\n",
       "      <th>mdate</th>\n",
       "      <th>open_d</th>\n",
       "      <th>high_d</th>\n",
       "      <th>low_d</th>\n",
       "      <th>close_d</th>\n",
       "    </tr>\n",
       "    <tr>\n",
       "      <th>None</th>\n",
       "      <th></th>\n",
       "      <th></th>\n",
       "      <th></th>\n",
       "      <th></th>\n",
       "      <th></th>\n",
       "    </tr>\n",
       "  </thead>\n",
       "  <tbody>\n",
       "    <tr>\n",
       "      <th>0</th>\n",
       "      <td>2020-01-02 00:00:00+00:00</td>\n",
       "      <td>332.5</td>\n",
       "      <td>339.0</td>\n",
       "      <td>332.5</td>\n",
       "      <td>339.0</td>\n",
       "    </tr>\n",
       "    <tr>\n",
       "      <th>1</th>\n",
       "      <td>2020-01-03 00:00:00+00:00</td>\n",
       "      <td>344.0</td>\n",
       "      <td>345.0</td>\n",
       "      <td>335.5</td>\n",
       "      <td>339.5</td>\n",
       "    </tr>\n",
       "    <tr>\n",
       "      <th>2</th>\n",
       "      <td>2020-01-06 00:00:00+00:00</td>\n",
       "      <td>333.0</td>\n",
       "      <td>334.5</td>\n",
       "      <td>332.0</td>\n",
       "      <td>332.0</td>\n",
       "    </tr>\n",
       "    <tr>\n",
       "      <th>3</th>\n",
       "      <td>2020-01-07 00:00:00+00:00</td>\n",
       "      <td>332.5</td>\n",
       "      <td>333.0</td>\n",
       "      <td>326.5</td>\n",
       "      <td>329.5</td>\n",
       "    </tr>\n",
       "    <tr>\n",
       "      <th>4</th>\n",
       "      <td>2020-01-08 00:00:00+00:00</td>\n",
       "      <td>325.0</td>\n",
       "      <td>333.0</td>\n",
       "      <td>325.0</td>\n",
       "      <td>329.5</td>\n",
       "    </tr>\n",
       "    <tr>\n",
       "      <th>...</th>\n",
       "      <td>...</td>\n",
       "      <td>...</td>\n",
       "      <td>...</td>\n",
       "      <td>...</td>\n",
       "      <td>...</td>\n",
       "    </tr>\n",
       "    <tr>\n",
       "      <th>240</th>\n",
       "      <td>2020-12-25 00:00:00+00:00</td>\n",
       "      <td>514.0</td>\n",
       "      <td>515.0</td>\n",
       "      <td>510.0</td>\n",
       "      <td>511.0</td>\n",
       "    </tr>\n",
       "    <tr>\n",
       "      <th>241</th>\n",
       "      <td>2020-12-28 00:00:00+00:00</td>\n",
       "      <td>512.0</td>\n",
       "      <td>515.0</td>\n",
       "      <td>509.0</td>\n",
       "      <td>515.0</td>\n",
       "    </tr>\n",
       "    <tr>\n",
       "      <th>242</th>\n",
       "      <td>2020-12-29 00:00:00+00:00</td>\n",
       "      <td>515.0</td>\n",
       "      <td>517.0</td>\n",
       "      <td>513.0</td>\n",
       "      <td>515.0</td>\n",
       "    </tr>\n",
       "    <tr>\n",
       "      <th>243</th>\n",
       "      <td>2020-12-30 00:00:00+00:00</td>\n",
       "      <td>516.0</td>\n",
       "      <td>525.0</td>\n",
       "      <td>514.0</td>\n",
       "      <td>525.0</td>\n",
       "    </tr>\n",
       "    <tr>\n",
       "      <th>244</th>\n",
       "      <td>2020-12-31 00:00:00+00:00</td>\n",
       "      <td>526.0</td>\n",
       "      <td>530.0</td>\n",
       "      <td>524.0</td>\n",
       "      <td>530.0</td>\n",
       "    </tr>\n",
       "  </tbody>\n",
       "</table>\n",
       "<p>245 rows × 5 columns</p>\n",
       "</div>"
      ],
      "text/plain": [
       "                         mdate  open_d  high_d  low_d  close_d\n",
       "None                                                          \n",
       "0    2020-01-02 00:00:00+00:00   332.5   339.0  332.5    339.0\n",
       "1    2020-01-03 00:00:00+00:00   344.0   345.0  335.5    339.5\n",
       "2    2020-01-06 00:00:00+00:00   333.0   334.5  332.0    332.0\n",
       "3    2020-01-07 00:00:00+00:00   332.5   333.0  326.5    329.5\n",
       "4    2020-01-08 00:00:00+00:00   325.0   333.0  325.0    329.5\n",
       "...                        ...     ...     ...    ...      ...\n",
       "240  2020-12-25 00:00:00+00:00   514.0   515.0  510.0    511.0\n",
       "241  2020-12-28 00:00:00+00:00   512.0   515.0  509.0    515.0\n",
       "242  2020-12-29 00:00:00+00:00   515.0   517.0  513.0    515.0\n",
       "243  2020-12-30 00:00:00+00:00   516.0   525.0  514.0    525.0\n",
       "244  2020-12-31 00:00:00+00:00   526.0   530.0  524.0    530.0\n",
       "\n",
       "[245 rows x 5 columns]"
      ]
     },
     "execution_count": 44,
     "metadata": {},
     "output_type": "execute_result"
    }
   ],
   "source": [
    "df"
   ]
  },
  {
   "cell_type": "code",
   "execution_count": 45,
   "id": "crazy-groove",
   "metadata": {},
   "outputs": [
    {
     "data": {
      "text/html": [
       "<div>\n",
       "<style scoped>\n",
       "    .dataframe tbody tr th:only-of-type {\n",
       "        vertical-align: middle;\n",
       "    }\n",
       "\n",
       "    .dataframe tbody tr th {\n",
       "        vertical-align: top;\n",
       "    }\n",
       "\n",
       "    .dataframe thead th {\n",
       "        text-align: right;\n",
       "    }\n",
       "</style>\n",
       "<table border=\"1\" class=\"dataframe\">\n",
       "  <thead>\n",
       "    <tr style=\"text-align: right;\">\n",
       "      <th></th>\n",
       "      <th>open_d</th>\n",
       "      <th>high_d</th>\n",
       "      <th>low_d</th>\n",
       "      <th>close_d</th>\n",
       "    </tr>\n",
       "  </thead>\n",
       "  <tbody>\n",
       "    <tr>\n",
       "      <th>count</th>\n",
       "      <td>245.000000</td>\n",
       "      <td>245.000000</td>\n",
       "      <td>245.000000</td>\n",
       "      <td>245.000000</td>\n",
       "    </tr>\n",
       "    <tr>\n",
       "      <th>mean</th>\n",
       "      <td>379.020408</td>\n",
       "      <td>381.902041</td>\n",
       "      <td>375.461224</td>\n",
       "      <td>378.646939</td>\n",
       "    </tr>\n",
       "    <tr>\n",
       "      <th>std</th>\n",
       "      <td>79.029666</td>\n",
       "      <td>79.306643</td>\n",
       "      <td>78.397732</td>\n",
       "      <td>78.848519</td>\n",
       "    </tr>\n",
       "    <tr>\n",
       "      <th>min</th>\n",
       "      <td>252.000000</td>\n",
       "      <td>253.000000</td>\n",
       "      <td>235.500000</td>\n",
       "      <td>248.000000</td>\n",
       "    </tr>\n",
       "    <tr>\n",
       "      <th>25%</th>\n",
       "      <td>308.500000</td>\n",
       "      <td>312.000000</td>\n",
       "      <td>308.000000</td>\n",
       "      <td>309.500000</td>\n",
       "    </tr>\n",
       "    <tr>\n",
       "      <th>50%</th>\n",
       "      <td>346.000000</td>\n",
       "      <td>347.000000</td>\n",
       "      <td>344.500000</td>\n",
       "      <td>346.000000</td>\n",
       "    </tr>\n",
       "    <tr>\n",
       "      <th>75%</th>\n",
       "      <td>443.500000</td>\n",
       "      <td>447.000000</td>\n",
       "      <td>439.500000</td>\n",
       "      <td>443.000000</td>\n",
       "    </tr>\n",
       "    <tr>\n",
       "      <th>max</th>\n",
       "      <td>526.000000</td>\n",
       "      <td>530.000000</td>\n",
       "      <td>524.000000</td>\n",
       "      <td>530.000000</td>\n",
       "    </tr>\n",
       "  </tbody>\n",
       "</table>\n",
       "</div>"
      ],
      "text/plain": [
       "           open_d      high_d       low_d     close_d\n",
       "count  245.000000  245.000000  245.000000  245.000000\n",
       "mean   379.020408  381.902041  375.461224  378.646939\n",
       "std     79.029666   79.306643   78.397732   78.848519\n",
       "min    252.000000  253.000000  235.500000  248.000000\n",
       "25%    308.500000  312.000000  308.000000  309.500000\n",
       "50%    346.000000  347.000000  344.500000  346.000000\n",
       "75%    443.500000  447.000000  439.500000  443.000000\n",
       "max    526.000000  530.000000  524.000000  530.000000"
      ]
     },
     "execution_count": 45,
     "metadata": {},
     "output_type": "execute_result"
    }
   ],
   "source": [
    "df.describe()"
   ]
  },
  {
   "cell_type": "code",
   "execution_count": 46,
   "id": "hearing-spanking",
   "metadata": {},
   "outputs": [],
   "source": [
    "df = df.set_index('mdate')"
   ]
  },
  {
   "cell_type": "code",
   "execution_count": 47,
   "id": "quantitative-suspect",
   "metadata": {},
   "outputs": [
    {
     "data": {
      "text/plain": [
       "<AxesSubplot:xlabel='mdate'>"
      ]
     },
     "execution_count": 47,
     "metadata": {},
     "output_type": "execute_result"
    },
    {
     "data": {
      "image/png": "[encoded data removed]",
      "text/plain": [
       "<Figure size 432x288 with 1 Axes>"
      ]
     },
     "metadata": {
      "needs_background": "light"
     },
     "output_type": "display_data"
    }
   ],
   "source": [
    "df['close_d'].plot()"
   ]
  }
 ],
 "metadata": {
  "kernelspec": {
   "display_name": "Python 3",
   "language": "python",
   "name": "python3"
  },
  "language_info": {
   "codemirror_mode": {
    "name": "ipython",
    "version": 3
   },
   "file_extension": ".py",
   "mimetype": "text/x-python",
   "name": "python",
   "nbconvert_exporter": "python",
   "pygments_lexer": "ipython3",
   "version": "3.8.5"
  }
 },
 "nbformat": 4,
 "nbformat_minor": 5
}
